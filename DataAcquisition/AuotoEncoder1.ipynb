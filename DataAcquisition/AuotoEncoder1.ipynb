{
 "cells": [
  {
   "attachments": {},
   "cell_type": "markdown",
   "metadata": {},
   "source": [
    "Implementing an Auotoencoder network for anomaly detection based on the proposed procedure in following paper:\n",
    "Collision Detection for Robot Manipulators Using Unsupervised Anomaly Detection Algorithms Kyu Min Park , Younghyo Park , Sangwoong Yoon , and Frank C. Park , Fellow, IEEE\n",
    "\n"
   ]
  },
  {
   "cell_type": "code",
   "execution_count": 2,
   "metadata": {},
   "outputs": [],
   "source": [
    "import pandas as pd\n",
    "import numpy as np\n",
    "\n",
    "import matplotlib.pyplot as plt\n",
    "from IPython.core.interactiveshell import InteractiveShell\n",
    "\n",
    "from sklearn.preprocessing import MinMaxScaler\n",
    "import keras \n",
    "from keras import layers\n"
   ]
  },
  {
   "attachments": {},
   "cell_type": "markdown",
   "metadata": {},
   "source": [
    "Now reload data from data set "
   ]
  },
  {
   "cell_type": "code",
   "execution_count": 3,
   "metadata": {},
   "outputs": [
    {
     "data": {
      "text/html": [
       "<div>\n",
       "<style scoped>\n",
       "    .dataframe tbody tr th:only-of-type {\n",
       "        vertical-align: middle;\n",
       "    }\n",
       "\n",
       "    .dataframe tbody tr th {\n",
       "        vertical-align: top;\n",
       "    }\n",
       "\n",
       "    .dataframe thead th {\n",
       "        text-align: right;\n",
       "    }\n",
       "</style>\n",
       "<table border=\"1\" class=\"dataframe\">\n",
       "  <thead>\n",
       "    <tr style=\"text-align: right;\">\n",
       "      <th></th>\n",
       "      <th>cartForce1_X</th>\n",
       "      <th>cartForce1_Y</th>\n",
       "      <th>cartForce1_Z</th>\n",
       "      <th>cartTorque1_TauX</th>\n",
       "      <th>cartTorque1_TauY</th>\n",
       "      <th>cartTorque1_TauZ</th>\n",
       "      <th>CartPosMsr1_X</th>\n",
       "      <th>CartPosMsr1_Y</th>\n",
       "      <th>CartPosMsr1_Z</th>\n",
       "      <th>CollisionType</th>\n",
       "    </tr>\n",
       "  </thead>\n",
       "  <tbody>\n",
       "    <tr>\n",
       "      <th>0</th>\n",
       "      <td>-0.198948</td>\n",
       "      <td>-0.350991</td>\n",
       "      <td>1.579013</td>\n",
       "      <td>-0.298485</td>\n",
       "      <td>-0.309085</td>\n",
       "      <td>-0.298117</td>\n",
       "      <td>0.057388</td>\n",
       "      <td>700.068897</td>\n",
       "      <td>60.028683</td>\n",
       "      <td>NoColl</td>\n",
       "    </tr>\n",
       "    <tr>\n",
       "      <th>1</th>\n",
       "      <td>-0.200875</td>\n",
       "      <td>-0.351639</td>\n",
       "      <td>1.580461</td>\n",
       "      <td>-0.298425</td>\n",
       "      <td>-0.309606</td>\n",
       "      <td>-0.298192</td>\n",
       "      <td>0.057364</td>\n",
       "      <td>700.068860</td>\n",
       "      <td>60.028681</td>\n",
       "      <td>NoColl</td>\n",
       "    </tr>\n",
       "    <tr>\n",
       "      <th>2</th>\n",
       "      <td>-0.192838</td>\n",
       "      <td>-0.348998</td>\n",
       "      <td>1.572937</td>\n",
       "      <td>-0.298804</td>\n",
       "      <td>-0.307639</td>\n",
       "      <td>-0.297851</td>\n",
       "      <td>0.057515</td>\n",
       "      <td>700.068878</td>\n",
       "      <td>60.028637</td>\n",
       "      <td>NoColl</td>\n",
       "    </tr>\n",
       "    <tr>\n",
       "      <th>3</th>\n",
       "      <td>-0.187162</td>\n",
       "      <td>-0.355347</td>\n",
       "      <td>1.579814</td>\n",
       "      <td>-0.297828</td>\n",
       "      <td>-0.306840</td>\n",
       "      <td>-0.297809</td>\n",
       "      <td>0.057514</td>\n",
       "      <td>700.068828</td>\n",
       "      <td>60.028644</td>\n",
       "      <td>NoColl</td>\n",
       "    </tr>\n",
       "    <tr>\n",
       "      <th>4</th>\n",
       "      <td>-0.202570</td>\n",
       "      <td>-0.363153</td>\n",
       "      <td>1.573990</td>\n",
       "      <td>-0.296778</td>\n",
       "      <td>-0.311663</td>\n",
       "      <td>-0.298496</td>\n",
       "      <td>0.057417</td>\n",
       "      <td>700.068777</td>\n",
       "      <td>60.028608</td>\n",
       "      <td>NoColl</td>\n",
       "    </tr>\n",
       "  </tbody>\n",
       "</table>\n",
       "</div>"
      ],
      "text/plain": [
       "   cartForce1_X  cartForce1_Y  cartForce1_Z  cartTorque1_TauX  \\\n",
       "0     -0.198948     -0.350991      1.579013         -0.298485   \n",
       "1     -0.200875     -0.351639      1.580461         -0.298425   \n",
       "2     -0.192838     -0.348998      1.572937         -0.298804   \n",
       "3     -0.187162     -0.355347      1.579814         -0.297828   \n",
       "4     -0.202570     -0.363153      1.573990         -0.296778   \n",
       "\n",
       "   cartTorque1_TauY  cartTorque1_TauZ  CartPosMsr1_X  CartPosMsr1_Y  \\\n",
       "0         -0.309085         -0.298117       0.057388     700.068897   \n",
       "1         -0.309606         -0.298192       0.057364     700.068860   \n",
       "2         -0.307639         -0.297851       0.057515     700.068878   \n",
       "3         -0.306840         -0.297809       0.057514     700.068828   \n",
       "4         -0.311663         -0.298496       0.057417     700.068777   \n",
       "\n",
       "   CartPosMsr1_Z CollisionType  \n",
       "0      60.028683        NoColl  \n",
       "1      60.028681        NoColl  \n",
       "2      60.028637        NoColl  \n",
       "3      60.028644        NoColl  \n",
       "4      60.028608        NoColl  "
      ]
     },
     "execution_count": 3,
     "metadata": {},
     "output_type": "execute_result"
    }
   ],
   "source": [
    "data_df = pd.read_csv(\"Data sets/dataCircularPath_f15N.csv\")\n",
    "data_df.head()"
   ]
  },
  {
   "attachments": {},
   "cell_type": "markdown",
   "metadata": {},
   "source": [
    "Sampling signals into 60ms window with an Interval of 4ms.\n",
    "remember, that the kuka sampling rate set to 500Hz. So I took the mean of each 2 rows. But first, pick the non-collision data and remove the last column "
   ]
  },
  {
   "cell_type": "code",
   "execution_count": 4,
   "metadata": {},
   "outputs": [
    {
     "data": {
      "text/plain": [
       "(180000, 9)"
      ]
     },
     "execution_count": 4,
     "metadata": {},
     "output_type": "execute_result"
    }
   ],
   "source": [
    "data_df_nocoll =  data_df[data_df['CollisionType'].str.contains('NoColl')]\n",
    "data_df_nocoll = data_df_nocoll.drop([\"CollisionType\"],axis=1) #dropping cols with string or integer value\n",
    "data_df_nocoll = data_df_nocoll.astype('float16')\n",
    "data_df_nocoll.shape\n"
   ]
  },
  {
   "cell_type": "code",
   "execution_count": 5,
   "metadata": {},
   "outputs": [
    {
     "data": {
      "text/html": [
       "<div>\n",
       "<style scoped>\n",
       "    .dataframe tbody tr th:only-of-type {\n",
       "        vertical-align: middle;\n",
       "    }\n",
       "\n",
       "    .dataframe tbody tr th {\n",
       "        vertical-align: top;\n",
       "    }\n",
       "\n",
       "    .dataframe thead th {\n",
       "        text-align: right;\n",
       "    }\n",
       "</style>\n",
       "<table border=\"1\" class=\"dataframe\">\n",
       "  <thead>\n",
       "    <tr style=\"text-align: right;\">\n",
       "      <th></th>\n",
       "      <th>cartForce1_X</th>\n",
       "      <th>cartForce1_Y</th>\n",
       "      <th>cartForce1_Z</th>\n",
       "      <th>cartTorque1_TauX</th>\n",
       "      <th>cartTorque1_TauY</th>\n",
       "      <th>cartTorque1_TauZ</th>\n",
       "      <th>CartPosMsr1_X</th>\n",
       "      <th>CartPosMsr1_Y</th>\n",
       "      <th>CartPosMsr1_Z</th>\n",
       "    </tr>\n",
       "  </thead>\n",
       "  <tbody>\n",
       "    <tr>\n",
       "      <th>0</th>\n",
       "      <td>-0.199951</td>\n",
       "      <td>-0.351318</td>\n",
       "      <td>1.580078</td>\n",
       "      <td>-0.298340</td>\n",
       "      <td>-0.309326</td>\n",
       "      <td>-0.298096</td>\n",
       "      <td>0.057373</td>\n",
       "      <td>700.0</td>\n",
       "      <td>60.03125</td>\n",
       "    </tr>\n",
       "    <tr>\n",
       "      <th>1</th>\n",
       "      <td>-0.189941</td>\n",
       "      <td>-0.352051</td>\n",
       "      <td>1.576172</td>\n",
       "      <td>-0.298340</td>\n",
       "      <td>-0.307129</td>\n",
       "      <td>-0.297852</td>\n",
       "      <td>0.057526</td>\n",
       "      <td>700.0</td>\n",
       "      <td>60.03125</td>\n",
       "    </tr>\n",
       "    <tr>\n",
       "      <th>2</th>\n",
       "      <td>-0.201904</td>\n",
       "      <td>-0.360352</td>\n",
       "      <td>1.577148</td>\n",
       "      <td>-0.297119</td>\n",
       "      <td>-0.311523</td>\n",
       "      <td>-0.298340</td>\n",
       "      <td>0.057434</td>\n",
       "      <td>700.0</td>\n",
       "      <td>60.03125</td>\n",
       "    </tr>\n",
       "    <tr>\n",
       "      <th>3</th>\n",
       "      <td>-0.163818</td>\n",
       "      <td>-0.350830</td>\n",
       "      <td>1.550781</td>\n",
       "      <td>-0.298584</td>\n",
       "      <td>-0.302246</td>\n",
       "      <td>-0.296875</td>\n",
       "      <td>0.058472</td>\n",
       "      <td>700.0</td>\n",
       "      <td>60.03125</td>\n",
       "    </tr>\n",
       "    <tr>\n",
       "      <th>4</th>\n",
       "      <td>0.058105</td>\n",
       "      <td>-0.330078</td>\n",
       "      <td>1.344727</td>\n",
       "      <td>-0.305176</td>\n",
       "      <td>-0.255859</td>\n",
       "      <td>-0.290527</td>\n",
       "      <td>0.065796</td>\n",
       "      <td>700.0</td>\n",
       "      <td>60.03125</td>\n",
       "    </tr>\n",
       "  </tbody>\n",
       "</table>\n",
       "</div>"
      ],
      "text/plain": [
       "   cartForce1_X  cartForce1_Y  cartForce1_Z  cartTorque1_TauX  \\\n",
       "0     -0.199951     -0.351318      1.580078         -0.298340   \n",
       "1     -0.189941     -0.352051      1.576172         -0.298340   \n",
       "2     -0.201904     -0.360352      1.577148         -0.297119   \n",
       "3     -0.163818     -0.350830      1.550781         -0.298584   \n",
       "4      0.058105     -0.330078      1.344727         -0.305176   \n",
       "\n",
       "   cartTorque1_TauY  cartTorque1_TauZ  CartPosMsr1_X  CartPosMsr1_Y  \\\n",
       "0         -0.309326         -0.298096       0.057373          700.0   \n",
       "1         -0.307129         -0.297852       0.057526          700.0   \n",
       "2         -0.311523         -0.298340       0.057434          700.0   \n",
       "3         -0.302246         -0.296875       0.058472          700.0   \n",
       "4         -0.255859         -0.290527       0.065796          700.0   \n",
       "\n",
       "   CartPosMsr1_Z  \n",
       "0       60.03125  \n",
       "1       60.03125  \n",
       "2       60.03125  \n",
       "3       60.03125  \n",
       "4       60.03125  "
      ]
     },
     "execution_count": 5,
     "metadata": {},
     "output_type": "execute_result"
    }
   ],
   "source": [
    "\n",
    "col_names = data_df_nocoll.columns\n",
    "data_df_nocoll = pd.DataFrame(data_df_nocoll.values.reshape(-1,2,data_df_nocoll.shape[1]).mean(1),columns=data_df_nocoll.columns) \n",
    "data_df_nocoll.columns = col_names\n",
    "data_df_nocoll.head()\n",
    "#data_df_nocoll.columns\n"
   ]
  },
  {
   "attachments": {},
   "cell_type": "markdown",
   "metadata": {},
   "source": [
    "Now, each 2 row are 4ms apart that means 15 of them becomes a 60ms window.\n",
    "In this case, R(6)*(15+1) : 6 is the cart. F/T (in paper its 4 bc of choosing joints 1 to 4)\n"
   ]
  },
  {
   "cell_type": "code",
   "execution_count": 34,
   "metadata": {},
   "outputs": [
    {
     "name": "stdout",
     "output_type": "stream",
     "text": [
      "72000 18000\n"
     ]
    }
   ],
   "source": [
    "# scale data in range 0-1\n",
    "dataset = data_df_nocoll.values\n",
    "number_of_featurs = 6\n",
    "dataset = dataset[:,:number_of_featurs] # drop data other than 6Dof F/T\n",
    "scaler = MinMaxScaler(feature_range=(0, 1)) # creates an object which scales! (scal er)\n",
    "dataset = scaler.fit_transform(dataset)\n",
    "# split into train and test sets\n",
    "# in case of Auoto encoder, test data output must result in zero anomaly\n",
    "train_size = int(len(dataset) * 0.80)\n",
    "test_size = len(dataset) - train_size\n",
    "train, test = dataset[0:train_size,:], dataset[train_size:len(dataset),:]\n",
    "print(len(train), len(test))"
   ]
  },
  {
   "attachments": {},
   "cell_type": "markdown",
   "metadata": {},
   "source": [
    "Now, creating the input vector R as below:\n",
    "R[ 1 - 16]\n",
    "R[ 2 - 17]\n",
    "R[ 3 - 18] and so on..."
   ]
  },
  {
   "cell_type": "code",
   "execution_count": 7,
   "metadata": {},
   "outputs": [
    {
     "name": "stdout",
     "output_type": "stream",
     "text": [
      "[[[0.5312  0.432   0.1103  0.322   0.549   0.3157 ]\n",
      "  [0.5317  0.432   0.1102  0.322   0.55    0.316  ]\n",
      "  [0.531   0.4316  0.1102  0.3225  0.548   0.3154 ]\n",
      "  [0.5327  0.432   0.1095  0.3218  0.552   0.317  ]\n",
      "  [0.5444  0.4329  0.104   0.319   0.5693  0.3228 ]\n",
      "  [0.567   0.4358  0.0928  0.312   0.6     0.3313 ]\n",
      "  [0.6055  0.4407  0.078   0.3013  0.6543  0.3474 ]\n",
      "  [0.64    0.4473  0.065   0.289   0.696   0.3591 ]\n",
      "  [0.6606  0.4514  0.0636  0.2822  0.718   0.3657 ]\n",
      "  [0.6646  0.4514  0.07367 0.2803  0.7285  0.3716 ]\n",
      "  [0.637   0.4438  0.0904  0.2883  0.7     0.3667 ]\n",
      "  [0.58    0.4316  0.1134  0.3025  0.6406  0.3535 ]\n",
      "  [0.537   0.4167  0.1423  0.3198  0.609   0.349  ]\n",
      "  [0.525   0.3972  0.1724  0.3413  0.6167  0.3535 ]\n",
      "  [0.5225  0.378   0.1985  0.3608  0.6294  0.354  ]\n",
      "  [0.506   0.3652  0.2205  0.3745  0.619   0.344  ]]\n",
      "\n",
      " [[0.5317  0.432   0.1102  0.322   0.55    0.316  ]\n",
      "  [0.531   0.4316  0.1102  0.3225  0.548   0.3154 ]\n",
      "  [0.5327  0.432   0.1095  0.3218  0.552   0.317  ]\n",
      "  [0.5444  0.4329  0.104   0.319   0.5693  0.3228 ]\n",
      "  [0.567   0.4358  0.0928  0.312   0.6     0.3313 ]\n",
      "  [0.6055  0.4407  0.078   0.3013  0.6543  0.3474 ]\n",
      "  [0.64    0.4473  0.065   0.289   0.696   0.3591 ]\n",
      "  [0.6606  0.4514  0.0636  0.2822  0.718   0.3657 ]\n",
      "  [0.6646  0.4514  0.07367 0.2803  0.7285  0.3716 ]\n",
      "  [0.637   0.4438  0.0904  0.2883  0.7     0.3667 ]\n",
      "  [0.58    0.4316  0.1134  0.3025  0.6406  0.3535 ]\n",
      "  [0.537   0.4167  0.1423  0.3198  0.609   0.349  ]\n",
      "  [0.525   0.3972  0.1724  0.3413  0.6167  0.3535 ]\n",
      "  [0.5225  0.378   0.1985  0.3608  0.6294  0.354  ]\n",
      "  [0.506   0.3652  0.2205  0.3745  0.619   0.344  ]\n",
      "  [0.475   0.3613  0.2363  0.3782  0.597   0.331  ]]]\n"
     ]
    }
   ],
   "source": [
    "def create_dataset(dataset, look_back=1):\n",
    " dataX, dataY = [], []\n",
    " for i in range(len(dataset)-look_back-1):\n",
    "    a = dataset[i:(i+look_back), :] \n",
    "    dataX.append(a)\n",
    "    #dataY.append(dataset[i + look_back, 0]) # AE uses the same input and output\n",
    " return np.array(dataX)#, np.array(dataY)\n",
    "\n",
    "N = int(60/4)\n",
    "trainR = create_dataset(train, N+1)\n",
    "testR = create_dataset(test, N+1)\n",
    "\n",
    "print(trainR[:2])"
   ]
  },
  {
   "cell_type": "code",
   "execution_count": 8,
   "metadata": {},
   "outputs": [
    {
     "name": "stdout",
     "output_type": "stream",
     "text": [
      "[[0.5312  0.432   0.1103  0.322   0.549   0.3157  0.5317  0.432   0.1102\n",
      "  0.322   0.55    0.316   0.531   0.4316  0.1102  0.3225  0.548   0.3154\n",
      "  0.5327  0.432   0.1095  0.3218  0.552   0.317   0.5444  0.4329  0.104\n",
      "  0.319   0.5693  0.3228  0.567   0.4358  0.0928  0.312   0.6     0.3313\n",
      "  0.6055  0.4407  0.078   0.3013  0.6543  0.3474  0.64    0.4473  0.065\n",
      "  0.289   0.696   0.3591  0.6606  0.4514  0.0636  0.2822  0.718   0.3657\n",
      "  0.6646  0.4514  0.07367 0.2803  0.7285  0.3716  0.637   0.4438  0.0904\n",
      "  0.2883  0.7     0.3667  0.58    0.4316  0.1134  0.3025  0.6406  0.3535\n",
      "  0.537   0.4167  0.1423  0.3198  0.609   0.349   0.525   0.3972  0.1724\n",
      "  0.3413  0.6167  0.3535  0.5225  0.378   0.1985  0.3608  0.6294  0.354\n",
      "  0.506   0.3652  0.2205  0.3745  0.619   0.344  ]\n",
      " [0.5317  0.432   0.1102  0.322   0.55    0.316   0.531   0.4316  0.1102\n",
      "  0.3225  0.548   0.3154  0.5327  0.432   0.1095  0.3218  0.552   0.317\n",
      "  0.5444  0.4329  0.104   0.319   0.5693  0.3228  0.567   0.4358  0.0928\n",
      "  0.312   0.6     0.3313  0.6055  0.4407  0.078   0.3013  0.6543  0.3474\n",
      "  0.64    0.4473  0.065   0.289   0.696   0.3591  0.6606  0.4514  0.0636\n",
      "  0.2822  0.718   0.3657  0.6646  0.4514  0.07367 0.2803  0.7285  0.3716\n",
      "  0.637   0.4438  0.0904  0.2883  0.7     0.3667  0.58    0.4316  0.1134\n",
      "  0.3025  0.6406  0.3535  0.537   0.4167  0.1423  0.3198  0.609   0.349\n",
      "  0.525   0.3972  0.1724  0.3413  0.6167  0.3535  0.5225  0.378   0.1985\n",
      "  0.3608  0.6294  0.354   0.506   0.3652  0.2205  0.3745  0.619   0.344\n",
      "  0.475   0.3613  0.2363  0.3782  0.597   0.331  ]]\n"
     ]
    }
   ],
   "source": [
    "# Reshape the r vectors into x in the paper\n",
    "( num,rows_R ,cols_R) = trainR.shape\n",
    "trainX = trainR.reshape(-1,rows_R * cols_R)\n",
    "testX = testR.reshape(-1,rows_R*cols_R)\n",
    "input_size_X = rows_R * cols_R\n",
    "print(trainX[:2])"
   ]
  },
  {
   "cell_type": "code",
   "execution_count": 9,
   "metadata": {},
   "outputs": [
    {
     "name": "stdout",
     "output_type": "stream",
     "text": [
      "Model: \"model\"\n",
      "_________________________________________________________________\n",
      " Layer (type)                Output Shape              Param #   \n",
      "=================================================================\n",
      " input_1 (InputLayer)        [(None, 96)]              0         \n",
      "                                                                 \n",
      " dense (Dense)               (None, 48)                4656      \n",
      "                                                                 \n",
      " dense_1 (Dense)             (None, 8)                 392       \n",
      "                                                                 \n",
      " dense_2 (Dense)             (None, 48)                432       \n",
      "                                                                 \n",
      " dense_3 (Dense)             (None, 96)                4704      \n",
      "                                                                 \n",
      "=================================================================\n",
      "Total params: 10,184\n",
      "Trainable params: 10,184\n",
      "Non-trainable params: 0\n",
      "_________________________________________________________________\n",
      "None\n"
     ]
    }
   ],
   "source": [
    "# forming AE \n",
    "input_vec_x = keras.Input(shape=(input_size_X, ))\n",
    "encoder1 = layers.Dense(48, activation='relu')(input_vec_x)\n",
    "bottlneck = layers.Dense(8,activation='relu')(encoder1)\n",
    "decoder1 = layers.Dense(48,activation='relu')(bottlneck)\n",
    "output_layer = layers.Dense(input_size_X,activation='linear')(decoder1)\n",
    "autoencoder1 = keras.Model(inputs = input_vec_x,outputs = output_layer)\n",
    "\n",
    "autoencoder1.compile(optimizer='adam',loss='mae')\n",
    "print(autoencoder1.summary())\n"
   ]
  },
  {
   "cell_type": "code",
   "execution_count": 10,
   "metadata": {},
   "outputs": [
    {
     "name": "stdout",
     "output_type": "stream",
     "text": [
      "Epoch 1/50\n",
      "720/720 - 1s - loss: 0.0562 - 1s/epoch - 2ms/step\n",
      "Epoch 2/50\n",
      "720/720 - 1s - loss: 0.0257 - 1s/epoch - 1ms/step\n",
      "Epoch 3/50\n",
      "720/720 - 1s - loss: 0.0245 - 999ms/epoch - 1ms/step\n",
      "Epoch 4/50\n",
      "720/720 - 1s - loss: 0.0235 - 1s/epoch - 1ms/step\n",
      "Epoch 5/50\n",
      "720/720 - 1s - loss: 0.0227 - 910ms/epoch - 1ms/step\n",
      "Epoch 6/50\n",
      "720/720 - 1s - loss: 0.0223 - 880ms/epoch - 1ms/step\n",
      "Epoch 7/50\n",
      "720/720 - 1s - loss: 0.0220 - 809ms/epoch - 1ms/step\n",
      "Epoch 8/50\n",
      "720/720 - 1s - loss: 0.0218 - 841ms/epoch - 1ms/step\n",
      "Epoch 9/50\n",
      "720/720 - 1s - loss: 0.0216 - 861ms/epoch - 1ms/step\n",
      "Epoch 10/50\n",
      "720/720 - 1s - loss: 0.0215 - 855ms/epoch - 1ms/step\n",
      "Epoch 11/50\n",
      "720/720 - 1s - loss: 0.0214 - 853ms/epoch - 1ms/step\n",
      "Epoch 12/50\n",
      "720/720 - 1s - loss: 0.0213 - 885ms/epoch - 1ms/step\n",
      "Epoch 13/50\n",
      "720/720 - 1s - loss: 0.0212 - 855ms/epoch - 1ms/step\n",
      "Epoch 14/50\n",
      "720/720 - 1s - loss: 0.0212 - 856ms/epoch - 1ms/step\n",
      "Epoch 15/50\n",
      "720/720 - 1s - loss: 0.0211 - 850ms/epoch - 1ms/step\n",
      "Epoch 16/50\n",
      "720/720 - 1s - loss: 0.0211 - 848ms/epoch - 1ms/step\n",
      "Epoch 17/50\n",
      "720/720 - 1s - loss: 0.0211 - 910ms/epoch - 1ms/step\n",
      "Epoch 18/50\n",
      "720/720 - 1s - loss: 0.0210 - 950ms/epoch - 1ms/step\n",
      "Epoch 19/50\n",
      "720/720 - 1s - loss: 0.0210 - 862ms/epoch - 1ms/step\n",
      "Epoch 20/50\n",
      "720/720 - 1s - loss: 0.0209 - 824ms/epoch - 1ms/step\n",
      "Epoch 21/50\n",
      "720/720 - 1s - loss: 0.0209 - 814ms/epoch - 1ms/step\n",
      "Epoch 22/50\n",
      "720/720 - 1s - loss: 0.0209 - 798ms/epoch - 1ms/step\n",
      "Epoch 23/50\n",
      "720/720 - 1s - loss: 0.0208 - 780ms/epoch - 1ms/step\n",
      "Epoch 24/50\n",
      "720/720 - 1s - loss: 0.0208 - 789ms/epoch - 1ms/step\n",
      "Epoch 25/50\n",
      "720/720 - 1s - loss: 0.0208 - 861ms/epoch - 1ms/step\n",
      "Epoch 26/50\n",
      "720/720 - 1s - loss: 0.0208 - 821ms/epoch - 1ms/step\n",
      "Epoch 27/50\n",
      "720/720 - 1s - loss: 0.0208 - 820ms/epoch - 1ms/step\n",
      "Epoch 28/50\n",
      "720/720 - 1s - loss: 0.0208 - 835ms/epoch - 1ms/step\n",
      "Epoch 29/50\n",
      "720/720 - 1s - loss: 0.0207 - 810ms/epoch - 1ms/step\n",
      "Epoch 30/50\n",
      "720/720 - 1s - loss: 0.0207 - 806ms/epoch - 1ms/step\n",
      "Epoch 31/50\n",
      "720/720 - 1s - loss: 0.0207 - 840ms/epoch - 1ms/step\n",
      "Epoch 32/50\n",
      "720/720 - 1s - loss: 0.0207 - 834ms/epoch - 1ms/step\n",
      "Epoch 33/50\n",
      "720/720 - 1s - loss: 0.0207 - 814ms/epoch - 1ms/step\n",
      "Epoch 34/50\n",
      "720/720 - 1s - loss: 0.0207 - 811ms/epoch - 1ms/step\n",
      "Epoch 35/50\n",
      "720/720 - 1s - loss: 0.0207 - 828ms/epoch - 1ms/step\n",
      "Epoch 36/50\n",
      "720/720 - 1s - loss: 0.0207 - 803ms/epoch - 1ms/step\n",
      "Epoch 37/50\n",
      "720/720 - 1s - loss: 0.0206 - 786ms/epoch - 1ms/step\n",
      "Epoch 38/50\n",
      "720/720 - 1s - loss: 0.0206 - 855ms/epoch - 1ms/step\n",
      "Epoch 39/50\n",
      "720/720 - 1s - loss: 0.0206 - 781ms/epoch - 1ms/step\n",
      "Epoch 40/50\n",
      "720/720 - 1s - loss: 0.0206 - 784ms/epoch - 1ms/step\n",
      "Epoch 41/50\n",
      "720/720 - 1s - loss: 0.0206 - 785ms/epoch - 1ms/step\n",
      "Epoch 42/50\n",
      "720/720 - 1s - loss: 0.0206 - 791ms/epoch - 1ms/step\n",
      "Epoch 43/50\n",
      "720/720 - 1s - loss: 0.0206 - 801ms/epoch - 1ms/step\n",
      "Epoch 44/50\n",
      "720/720 - 1s - loss: 0.0205 - 904ms/epoch - 1ms/step\n",
      "Epoch 45/50\n",
      "720/720 - 1s - loss: 0.0205 - 918ms/epoch - 1ms/step\n",
      "Epoch 46/50\n",
      "720/720 - 1s - loss: 0.0205 - 890ms/epoch - 1ms/step\n",
      "Epoch 47/50\n",
      "720/720 - 1s - loss: 0.0205 - 884ms/epoch - 1ms/step\n",
      "Epoch 48/50\n",
      "720/720 - 1s - loss: 0.0205 - 886ms/epoch - 1ms/step\n",
      "Epoch 49/50\n",
      "720/720 - 1s - loss: 0.0205 - 886ms/epoch - 1ms/step\n",
      "Epoch 50/50\n",
      "720/720 - 1s - loss: 0.0205 - 892ms/epoch - 1ms/step\n"
     ]
    }
   ],
   "source": [
    "# train model\n",
    "history = autoencoder1.fit(trainX,trainX,batch_size=100,epochs=50,verbose=2)\n",
    "# 43 sec with CPU  batch100 epoch50"
   ]
  },
  {
   "cell_type": "code",
   "execution_count": 11,
   "metadata": {},
   "outputs": [
    {
     "name": "stdout",
     "output_type": "stream",
     "text": [
      "562/562 [==============================] - 1s 914us/step\n",
      "2250/2250 [==============================] - 2s 953us/step\n"
     ]
    }
   ],
   "source": [
    "\n",
    "testXhat_predict = autoencoder1.predict(testX)\n",
    "trainXhat_predict = autoencoder1.predict(trainX)\n"
   ]
  },
  {
   "cell_type": "code",
   "execution_count": 12,
   "metadata": {},
   "outputs": [],
   "source": [
    "# Plot testX and testXhat to check the difference\n",
    "# remember that in AE target (y) is the same as input (x)\n",
    "\n",
    "# first reshape from network input/output vector(-1,96) into R dimension (-1,16,6)\n",
    "testXhat_predict_Rshape = testXhat_predict.reshape(-1,16,6)\n",
    "trainXhat_predict_Rshape = trainXhat_predict.reshape(-1,16,6) \n",
    "# now revert back the R to the time series original data shape\n",
    "testXhat_predict_data = testXhat_predict_Rshape[:,0,:]\n",
    "testXhat_predict_data = scaler.inverse_transform(testXhat_predict_data)\n",
    "test_data = scaler.inverse_transform(test)\n",
    "# now compare 'test' and testXhat_predict_data\n",
    "# to generate interactive plot\n",
    "%matplotlib qt    \n",
    "# these are indicies [['cartForce1_X','cartForce1_Y','cartForce1_Z',\\\n",
    "#                                               'cartTorque1_TauX','cartTorque1_TauY','cartTorque1_TauZ',\\\n",
    "#                                               'CartPosMsr1_X', 'CartPosMsr1_Y', 'CartPosMsr1_Z','CollisionType']]\n",
    "fig, ax = plt.subplots()\n",
    "ax.plot(  test_data[:,2] )\n",
    "ax.plot(  testXhat_predict_data[:,2] )\n",
    "ax.legend(['test_data', 'testXhat'], loc=4)\n",
    "\n",
    "plt.show()"
   ]
  },
  {
   "attachments": {},
   "cell_type": "markdown",
   "metadata": {},
   "source": [
    "Now, paper suggests reconstruction error on 5 last time steps in 1 window to detect anomaly\n",
    "1) check the normal reconstruction error in network by canculation mean-reconstruction-error of all train and test data prediction\n",
    "2) set an error like 3x bigger than mre"
   ]
  },
  {
   "cell_type": "code",
   "execution_count": 13,
   "metadata": {},
   "outputs": [
    {
     "name": "stdout",
     "output_type": "stream",
     "text": [
      "[-0.00249767 -0.00243104  0.0028646   0.00419486 -0.00884771 -0.00422871\n",
      "  0.00056511 -0.00489034  0.0012508   0.00275275 -0.00584573 -0.0012373\n",
      "  0.00508918 -0.00335875 -0.00288233  0.00045991 -0.00315064 -0.00171861\n",
      "  0.00840411 -0.00368607  0.00237727  0.00250071 -0.0029864  -0.003232\n",
      "  0.001589   -0.00432289  0.00224462  0.00186685 -0.00602755 -0.00712246]\n",
      "[-0.00516293 -0.00274873  0.00401591  0.00409871 -0.00898769 -0.00502853\n",
      " -0.00179569 -0.00515047  0.00235881  0.00199685 -0.00619846 -0.00173788\n",
      "  0.00241442 -0.0035722  -0.00162483 -0.00020248 -0.00351685 -0.00209396\n",
      "  0.00577019 -0.0039078   0.00389436  0.00141496 -0.00359659 -0.00348025\n",
      " -0.00037219 -0.00444111  0.0036535   0.0008925  -0.00642497 -0.00736689]\n"
     ]
    }
   ],
   "source": [
    "# calculating reconstruction error on collision-free test data\n",
    "# paper chooses r1 until r5, so we pick 5*6=30 of the 96 AEnet output\n",
    "# mre: mean-recontruction-error\n",
    "reconstruction_error = testX[:,0:5*number_of_featurs] - testXhat_predict[:,0:5*number_of_featurs] \n",
    "median_reconstruction_error = np.median(reconstruction_error,axis=0)\n",
    "print(median_reconstruction_error)\n",
    "\n",
    "mean_reconstruction_error = np.mean(reconstruction_error,axis=0)\n",
    "print(mean_reconstruction_error)"
   ]
  },
  {
   "attachments": {},
   "cell_type": "markdown",
   "metadata": {},
   "source": [
    "Now read data during which collisions happened from data set"
   ]
  },
  {
   "cell_type": "code",
   "execution_count": 35,
   "metadata": {},
   "outputs": [
    {
     "name": "stdout",
     "output_type": "stream",
     "text": [
      "1875/1875 [==============================] - 2s 941us/step\n"
     ]
    }
   ],
   "source": [
    "data_df_intentional =  data_df[data_df['CollisionType'].str.contains('Intentional')]\n",
    "data_df_intentional = data_df_intentional.drop([\"CollisionType\"],axis=1) #dropping cols with string or integer value\n",
    "data_df_intentional = data_df_intentional.astype('float16')\n",
    "data_df_intentional.shape\n",
    "\n",
    "data_with_collision = data_df_intentional.values\n",
    "number_of_featurs = 6\n",
    "data_with_collision = data_with_collision[:,:number_of_featurs] # drop data other than 6Dof F/T\n",
    "data_with_collision = scaler.transform(data_with_collision)\n",
    "data_with_collision_Rshape = create_dataset(data_with_collision, N+1)\n",
    "# in case of Auoto encoder, test data output must result in zero anomaly\n",
    "data_with_collision_Xshape = data_with_collision_Rshape.reshape(-1,rows_R * cols_R)\n",
    "\n",
    "colldataXhat_predict = autoencoder1.predict(data_with_collision_Xshape)\n"
   ]
  },
  {
   "cell_type": "code",
   "execution_count": 37,
   "metadata": {},
   "outputs": [],
   "source": [
    "# revert shape from network X shape to dataset series\n",
    "colldataXhat_predict_Rshape = colldataXhat_predict.reshape(-1,16,6)\n",
    "# now revert back the R to the time series original data shape\n",
    "colldataXhat_predict_data = colldataXhat_predict_Rshape[:,0,:]\n",
    "colldataXhat_predict_data = scaler.inverse_transform(colldataXhat_predict_data)\n",
    "data_with_collision_ = scaler.inverse_transform(data_with_collision) #revert back transform to get original data\n",
    "%matplotlib qt    \n",
    "# these are indicies [['cartForce1_X','cartForce1_Y','cartForce1_Z',\\\n",
    "#                                               'cartTorque1_TauX','cartTorque1_TauY','cartTorque1_TauZ',\\\n",
    "#                                               'CartPosMsr1_X', 'CartPosMsr1_Y', 'CartPosMsr1_Z','CollisionType']]\n",
    "fig, ax = plt.subplots()\n",
    "ax.plot(  data_with_collision_[:,2], linewidth=1 )\n",
    "ax.plot(  colldataXhat_predict_data[:,2] , linewidth=0.5)\n",
    "ax.legend(['test_data', 'testXhat'], loc=4)\n",
    "plt.show()"
   ]
  },
  {
   "attachments": {},
   "cell_type": "markdown",
   "metadata": {},
   "source": [
    "Now comparing reconstruction error in collision dataset with mean-rec-error of the no coll data"
   ]
  },
  {
   "cell_type": "code",
   "execution_count": null,
   "metadata": {},
   "outputs": [],
   "source": []
  }
 ],
 "metadata": {
  "kernelspec": {
   "display_name": "collision_env",
   "language": "python",
   "name": "python3"
  },
  "language_info": {
   "codemirror_mode": {
    "name": "ipython",
    "version": 3
   },
   "file_extension": ".py",
   "mimetype": "text/x-python",
   "name": "python",
   "nbconvert_exporter": "python",
   "pygments_lexer": "ipython3",
   "version": "3.10.11"
  },
  "orig_nbformat": 4
 },
 "nbformat": 4,
 "nbformat_minor": 2
}
